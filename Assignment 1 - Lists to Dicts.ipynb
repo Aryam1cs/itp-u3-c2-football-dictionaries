{
 "cells": [
  {
   "cell_type": "code",
   "execution_count": 1,
   "id": "15f5f173",
   "metadata": {},
   "outputs": [
    {
     "name": "stdout",
     "output_type": "stream",
     "text": [
      "{'number': '1', 'position': 'GK', 'name': 'Juan Botasso', 'date_of_birth': '(1908-10-23)23 October 1908 (aged 21)', 'caps': '', 'club': 'Quilmes', 'country': 'Argentina', 'club_country': 'Argentina', 'year': '1930'}\n",
      "{'number': '9', 'position': 'FW', 'name': 'Roberto Cherro', 'date_of_birth': '(1907-02-23)23 February 1907 (aged 23)', 'caps': '', 'club': 'Boca Juniors', 'country': 'Argentina', 'club_country': 'Argentina', 'year': '1930'}\n"
     ]
    }
   ],
   "source": [
    "def convert_players_to_dicts(players):\n",
    "    # Define the list to hold player dictionaries\n",
    "    squads_data = []\n",
    "    \n",
    "    # Process each player\n",
    "    for player in players:\n",
    "        player_dict = {\n",
    "            'number': player[0],\n",
    "            'position': player[1],\n",
    "            'name': player[2],\n",
    "            'date_of_birth': player[3],\n",
    "            'caps': player[4],\n",
    "            'club': player[5],\n",
    "            'country': player[6],\n",
    "            'club_country': player[7],\n",
    "            'year': player[8]\n",
    "        }\n",
    "        squads_data.append(player_dict)\n",
    "    \n",
    "    return squads_data\n",
    "\n",
    "# Example input list of players\n",
    "players = [\n",
    "    [\"1\", \"GK\", \"Juan Botasso\", \"(1908-10-23)23 October 1908 (aged 21)\", \"\", \"Quilmes\", \"Argentina\", \"Argentina\", \"1930\"],\n",
    "    [\"9\", \"FW\", \"Roberto Cherro\", \"(1907-02-23)23 February 1907 (aged 23)\", \"\", \"Boca Juniors\", \"Argentina\", \"Argentina\", \"1930\"]\n",
    "    # Add more players as needed\n",
    "]\n",
    "\n",
    "# Convert to dictionary format\n",
    "squads_data = convert_players_to_dicts(players)\n",
    "\n",
    "# Print the result\n",
    "for player in squads_data:\n",
    "    print(player)\n"
   ]
  },
  {
   "cell_type": "code",
   "execution_count": null,
   "id": "dc3d3c69",
   "metadata": {},
   "outputs": [],
   "source": []
  }
 ],
 "metadata": {
  "kernelspec": {
   "display_name": "Python 3 (ipykernel)",
   "language": "python",
   "name": "python3"
  },
  "language_info": {
   "codemirror_mode": {
    "name": "ipython",
    "version": 3
   },
   "file_extension": ".py",
   "mimetype": "text/x-python",
   "name": "python",
   "nbconvert_exporter": "python",
   "pygments_lexer": "ipython3",
   "version": "3.11.5"
  }
 },
 "nbformat": 4,
 "nbformat_minor": 5
}
